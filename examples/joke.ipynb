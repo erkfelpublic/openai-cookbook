{
 "cells": [
  {
   "cell_type": "code",
   "execution_count": null,
   "metadata": {},
   "outputs": [],
   "source": [
    "import random\n",
    "\n",
    "jokes = [\n",
    "    \"Why don't scientists trust atoms? Because they make up everything!\",\n",
    "    \"Why did the scarecrow win an award? Because he was outstanding in his field!\",\n",
    "    \"Why don't some couples go to the gym? Because some relationships don't work out!\",\n",
    "    \"I'm reading a book on anti-gravity. It's impossible to put down!\",\n",
    "    \"What do you call a lazy kangaroo? Pouch potato!\",\n",
    "    \"I told my wife she was drawing her eyebrows too high. She looked surprised.\"\n",
    "]\n",
    "\n",
    "print(random.choice(jokes))"
   ]
  }
 ],
 "metadata": {
  "kernelspec": {
   "display_name": "Python 3",
   "language": "python",
   "name": "python3"
  },
  "language_info": {
   "codemirror_mode": {
    "name": "ipython",
    "version": 3
   },
   "file_extension": ".py",
   "mimetype": "text/x-python",
   "name": "python",
   "nbconvert_exporter": "python",
   "pygments_lexer": "ipython3",
   "version": "3.10.9"
  }
 },
 "nbformat": 4,
 "nbformat_minor": 4
}
